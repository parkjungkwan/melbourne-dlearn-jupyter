{
 "cells": [
  {
   "cell_type": "code",
   "execution_count": 3,
   "metadata": {},
   "outputs": [],
   "source": [
    "import cv2\n",
    "bounding_box = './data/haarcascade_frontalface_alt.xml'\n",
    "girl = './data/girl.jpg'\n",
    "cascade = cv2.CascadeClassifier(bounding_box)\n"
   ]
  },
  {
   "cell_type": "code",
   "execution_count": 4,
   "metadata": {},
   "outputs": [],
   "source": [
    "img = cv2.imread(girl)\n",
    "face = cascade.detectMultiScale(img, minSize=(150,150))"
   ]
  },
  {
   "cell_type": "code",
   "execution_count": 6,
   "metadata": {},
   "outputs": [
    {
     "name": "stdout",
     "output_type": "stream",
     "text": [
      "얼굴의 좌표 :  319 308 405 405\n"
     ]
    }
   ],
   "source": [
    "if len(face) == 0:\n",
    "    print('얼굴인식 실패')\n",
    "    quit()\n",
    "for(x, y, w, h) in face:\n",
    "    print('얼굴의 좌표 : ', x, y, w, h)\n",
    "    red = (0, 0, 255)\n",
    "    cv2.rectangle(img, (x, y), (x+w, y+h), red, thickness=20)"
   ]
  },
  {
   "cell_type": "code",
   "execution_count": 8,
   "metadata": {},
   "outputs": [
    {
     "data": {
      "text/plain": [
       "True"
      ]
     },
     "execution_count": 8,
     "metadata": {},
     "output_type": "execute_result"
    }
   ],
   "source": [
    "cv2.imwrite('girl-face.png', img)\n"
   ]
  },
  {
   "cell_type": "code",
   "execution_count": null,
   "metadata": {},
   "outputs": [],
   "source": [
    "cv2.imshow('girl-face', img)\n",
    "cv2.waitKey(0)\n",
    "cv2.destroyAllWindows()"
   ]
  }
 ],
 "metadata": {
  "kernelspec": {
   "display_name": "Python 3.8.13 ('scalar')",
   "language": "python",
   "name": "python3"
  },
  "language_info": {
   "codemirror_mode": {
    "name": "ipython",
    "version": 3
   },
   "file_extension": ".py",
   "mimetype": "text/x-python",
   "name": "python",
   "nbconvert_exporter": "python",
   "pygments_lexer": "ipython3",
   "version": "3.8.13"
  },
  "orig_nbformat": 4,
  "vscode": {
   "interpreter": {
    "hash": "adab65c5641a4317658755f5aaa9ba36ddd3ef0abb1be3739f4e938f62b48f64"
   }
  }
 },
 "nbformat": 4,
 "nbformat_minor": 2
}
