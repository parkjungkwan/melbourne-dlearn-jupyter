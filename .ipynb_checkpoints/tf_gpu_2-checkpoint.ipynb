{
 "cells": [
  {
   "cell_type": "code",
   "execution_count": 1,
   "metadata": {},
   "outputs": [
    {
     "name": "stdout",
     "output_type": "stream",
     "text": [
      "2.6.0\n"
     ]
    }
   ],
   "source": [
    "# TensorFlow and tf.keras\n",
    "import tensorflow as tf\n",
    "\n",
    "# Helper libraries\n",
    "import numpy as np\n",
    "import matplotlib.pyplot as plt\n",
    "\n",
    "print(tf.__version__)"
   ]
  },
  {
   "cell_type": "code",
   "execution_count": 3,
   "metadata": {},
   "outputs": [
    {
     "name": "stdout",
     "output_type": "stream",
     "text": [
      "Requirement already satisfied: tensorflow-hub in c:\\users\\bitcamp\\.conda\\envs\\scalar\\lib\\site-packages (0.12.0)\n",
      "Requirement already satisfied: protobuf>=3.8.0 in c:\\users\\bitcamp\\.conda\\envs\\scalar\\lib\\site-packages (from tensorflow-hub) (3.19.4)\n",
      "Requirement already satisfied: numpy>=1.12.0 in c:\\users\\bitcamp\\.conda\\envs\\scalar\\lib\\site-packages (from tensorflow-hub) (1.19.5)\n",
      "Note: you may need to restart the kernel to use updated packages.\n"
     ]
    }
   ],
   "source": [
    "pip install tensorflow-hub"
   ]
  },
  {
   "cell_type": "code",
   "execution_count": 4,
   "metadata": {},
   "outputs": [
    {
     "name": "stdout",
     "output_type": "stream",
     "text": [
      "Requirement already satisfied: tensorflow-datasets in c:\\users\\bitcamp\\.conda\\envs\\scalar\\lib\\site-packages (4.6.0)\n",
      "Requirement already satisfied: numpy in c:\\users\\bitcamp\\.conda\\envs\\scalar\\lib\\site-packages (from tensorflow-datasets) (1.19.5)\n",
      "Requirement already satisfied: dill in c:\\users\\bitcamp\\.conda\\envs\\scalar\\lib\\site-packages (from tensorflow-datasets) (0.3.5.1)\n",
      "Requirement already satisfied: six in c:\\users\\bitcamp\\.conda\\envs\\scalar\\lib\\site-packages (from tensorflow-datasets) (1.15.0)\n",
      "Requirement already satisfied: termcolor in c:\\users\\bitcamp\\.conda\\envs\\scalar\\lib\\site-packages (from tensorflow-datasets) (1.1.0)\n",
      "Requirement already satisfied: protobuf>=3.12.2 in c:\\users\\bitcamp\\.conda\\envs\\scalar\\lib\\site-packages (from tensorflow-datasets) (3.19.4)\n",
      "Requirement already satisfied: etils[epath] in c:\\users\\bitcamp\\.conda\\envs\\scalar\\lib\\site-packages (from tensorflow-datasets) (0.6.0)\n",
      "Requirement already satisfied: importlib-resources in c:\\users\\bitcamp\\.conda\\envs\\scalar\\lib\\site-packages (from tensorflow-datasets) (5.7.1)\n",
      "Requirement already satisfied: promise in c:\\users\\bitcamp\\.conda\\envs\\scalar\\lib\\site-packages (from tensorflow-datasets) (2.3)\n",
      "Requirement already satisfied: tqdm in c:\\users\\bitcamp\\.conda\\envs\\scalar\\lib\\site-packages (from tensorflow-datasets) (4.64.0)\n",
      "Requirement already satisfied: absl-py in c:\\users\\bitcamp\\.conda\\envs\\scalar\\lib\\site-packages (from tensorflow-datasets) (0.15.0)\n",
      "Requirement already satisfied: requests>=2.19.0 in c:\\users\\bitcamp\\.conda\\envs\\scalar\\lib\\site-packages (from tensorflow-datasets) (2.24.0)\n",
      "Requirement already satisfied: toml in c:\\users\\bitcamp\\.conda\\envs\\scalar\\lib\\site-packages (from tensorflow-datasets) (0.10.2)\n",
      "Requirement already satisfied: tensorflow-metadata in c:\\users\\bitcamp\\.conda\\envs\\scalar\\lib\\site-packages (from tensorflow-datasets) (1.9.0)\n",
      "Requirement already satisfied: urllib3!=1.25.0,!=1.25.1,<1.26,>=1.21.1 in c:\\users\\bitcamp\\.conda\\envs\\scalar\\lib\\site-packages (from requests>=2.19.0->tensorflow-datasets) (1.25.10)\n",
      "Requirement already satisfied: certifi>=2017.4.17 in c:\\users\\bitcamp\\.conda\\envs\\scalar\\lib\\site-packages (from requests>=2.19.0->tensorflow-datasets) (2022.5.18.1)\n",
      "Requirement already satisfied: idna<3,>=2.5 in c:\\users\\bitcamp\\.conda\\envs\\scalar\\lib\\site-packages (from requests>=2.19.0->tensorflow-datasets) (2.10)\n",
      "Requirement already satisfied: chardet<4,>=3.0.2 in c:\\users\\bitcamp\\.conda\\envs\\scalar\\lib\\site-packages (from requests>=2.19.0->tensorflow-datasets) (3.0.4)\n",
      "Requirement already satisfied: zipp in c:\\users\\bitcamp\\.conda\\envs\\scalar\\lib\\site-packages (from etils[epath]->tensorflow-datasets) (3.8.0)\n",
      "Requirement already satisfied: googleapis-common-protos<2,>=1.52.0 in c:\\users\\bitcamp\\.conda\\envs\\scalar\\lib\\site-packages (from tensorflow-metadata->tensorflow-datasets) (1.56.3)\n",
      "Requirement already satisfied: colorama in c:\\users\\bitcamp\\.conda\\envs\\scalar\\lib\\site-packages (from tqdm->tensorflow-datasets) (0.4.4)\n",
      "Requirement already satisfied: typing_extensions in c:\\users\\bitcamp\\.conda\\envs\\scalar\\lib\\site-packages (from etils[epath]->tensorflow-datasets) (3.7.4.3)\n",
      "Note: you may need to restart the kernel to use updated packages.\n"
     ]
    }
   ],
   "source": [
    "pip install tensorflow-datasets"
   ]
  },
  {
   "cell_type": "code",
   "execution_count": 11,
   "metadata": {},
   "outputs": [
    {
     "name": "stdout",
     "output_type": "stream",
     "text": [
      "Version:  2.6.0\n",
      "Eager mode:  True\n",
      "GPU is NOT AVAILABLE\n"
     ]
    }
   ],
   "source": [
    "import os\n",
    "import numpy as np\n",
    "\n",
    "import tensorflow as tf\n",
    "\n",
    "import tensorflow_datasets as tfds\n",
    "\n",
    "print(\"Version: \", tf.__version__)\n",
    "print(\"Eager mode: \", tf.executing_eagerly())\n",
    "\n",
    "print(\"GPU is\", \"available\" if tf.config.list_physical_devices(\"GPU\") else \"NOT AVAILABLE\")"
   ]
  },
  {
   "cell_type": "code",
   "execution_count": 1,
   "metadata": {},
   "outputs": [
    {
     "name": "stdout",
     "output_type": "stream",
     "text": [
      "Please install GPU version of TF\n"
     ]
    }
   ],
   "source": [
    "import tensorflow as tf\n",
    "if tf.test.gpu_device_name():\n",
    "    print('Default GPU Device: {}'.format(tf.test.gpu_device_name()))\n",
    "else:\n",
    "    print(\"Please install GPU version of TF\")"
   ]
  },
  {
   "cell_type": "code",
   "execution_count": null,
   "metadata": {},
   "outputs": [],
   "source": []
  }
 ],
 "metadata": {
  "kernelspec": {
   "display_name": "Python 3 (ipykernel)",
   "language": "python",
   "name": "python3"
  },
  "language_info": {
   "codemirror_mode": {
    "name": "ipython",
    "version": 3
   },
   "file_extension": ".py",
   "mimetype": "text/x-python",
   "name": "python",
   "nbconvert_exporter": "python",
   "pygments_lexer": "ipython3",
   "version": "3.8.13"
  },
  "vscode": {
   "interpreter": {
    "hash": "adab65c5641a4317658755f5aaa9ba36ddd3ef0abb1be3739f4e938f62b48f64"
   }
  }
 },
 "nbformat": 4,
 "nbformat_minor": 2
}
